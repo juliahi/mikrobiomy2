{
 "cells": [
  {
   "cell_type": "code",
   "execution_count": 240,
   "metadata": {},
   "outputs": [],
   "source": [
    "import SGAFilter\n",
    "import graph_stats\n",
    "import heuristics\n",
    "import seaborn\n",
    "import numpy as np\n",
    "import math\n",
    "import cPickle\n",
    "from load_filter_graph import give_time\n",
    "from common import *\n",
    "from compare_assemblies import *\n",
    "import matplotlib_venn"
   ]
  },
  {
   "cell_type": "code",
   "execution_count": 221,
   "metadata": {},
   "outputs": [
    {
     "name": "stdout",
     "output_type": "stream",
     "text": [
      "The autoreload extension is already loaded. To reload it, use:\n",
      "  %reload_ext autoreload\n"
     ]
    }
   ],
   "source": [
    "%load_ext autoreload\n",
    "%autoreload 2\n",
    "%matplotlib inline"
   ]
  },
  {
   "cell_type": "raw",
   "metadata": {},
   "source": [
    "sg.__class__ = SGAFilter.SgaGraph"
   ]
  },
  {
   "cell_type": "code",
   "execution_count": 3,
   "metadata": {},
   "outputs": [],
   "source": [
    "conds = {'6683_16-06-2015':1, '6685_04-06-2015':0, '6685_16-06-2015':1, \n",
    "         '6690_04-06-2015':0, '6690_16-06-2015':1, '6695_04-06-2015':0, \n",
    "         '6695_16-06-2015':1, '6704_04-06-2015':0, '6704_16-06-2015':1}\n",
    "test_name = 'sga_test_full_notrim_paired_reversed'\n",
    "folder = \"/mnt/chr7/data/julia/\"+test_name\n",
    "suf = \".preprocessed_qf5.ec.filter.pass.rmdup\"\n",
    "filename = folder+\"/merged\"+suf+\"_31.asqg\""
   ]
  },
  {
   "cell_type": "code",
   "execution_count": 4,
   "metadata": {},
   "outputs": [],
   "source": [
    "#### load graph\n",
    "#stats = cPickle.load(open('stats_'+test_name+suf+'_sga.pickle', 'rb'))\n",
    "sg = cPickle.load(open('simplified_'+test_name+suf+'_sga.pickle', 'rb'))"
   ]
  },
  {
   "cell_type": "markdown",
   "metadata": {},
   "source": [
    "# Analyze 1 component"
   ]
  },
  {
   "cell_type": "code",
   "execution_count": 6,
   "metadata": {},
   "outputs": [],
   "source": [
    "sg1 = SGAFilter.get_random_components(sg, 1)"
   ]
  },
  {
   "cell_type": "code",
   "execution_count": 37,
   "metadata": {},
   "outputs": [],
   "source": [
    "cPickle.dump(sg1, open('1randomcomponent_'+test_name+suf+'_sga.pickle', 'wb'))"
   ]
  },
  {
   "cell_type": "code",
   "execution_count": 7,
   "metadata": {},
   "outputs": [
    {
     "name": "stdout",
     "output_type": "stream",
     "text": [
      "Number of nodes 362\n",
      "Number of edges 368\n",
      "Number of reads 2534\n"
     ]
    }
   ],
   "source": [
    "graph_stats.short_summary(sg1)"
   ]
  },
  {
   "cell_type": "markdown",
   "metadata": {},
   "source": [
    "## Longest paths"
   ]
  },
  {
   "cell_type": "code",
   "execution_count": 40,
   "metadata": {},
   "outputs": [],
   "source": [
    "MIN_FC = 2"
   ]
  },
  {
   "cell_type": "code",
   "execution_count": 92,
   "metadata": {
    "scrolled": true
   },
   "outputs": [
    {
     "name": "stdout",
     "output_type": "stream",
     "text": [
      "Start heuristic 1: longest Wed Aug 22 15:07:21 2018\n",
      "Found 13 paths Wed Aug 22 15:07:21 2018\n",
      "705 127 5.55118110236\n",
      "259 5 51.8\n",
      "588 282 2.08510638298\n",
      "0 7 1.42857142857e-07\n",
      "27 88 0.306818181818\n",
      "85 8 10.625\n",
      "50 3 16.6666666667\n",
      "32 2 16.0\n",
      "113 0 113000000.0\n",
      "134 4 33.5\n",
      "0 1 1e-06\n",
      "0 10 1e-07\n",
      "0 4 2.5e-07\n",
      "Leave 13 sequences with 2534 counts\n",
      "Found 13 paths with foldchange >= 2.000000\n",
      "Finished heuristic 1: longest Wed Aug 22 15:07:21 2018\n"
     ]
    }
   ],
   "source": [
    "outname = \"simplified_1random\"\n",
    "# Heuristic 1: take longest\n",
    "print \"Start heuristic 1: longest\", give_time()\n",
    "longest1 = heuristics.take_longest(sg1)\n",
    "print \"Found %d paths\" % len(longest1), give_time()\n",
    "# filter by FC\n",
    "longest_filter1 = SGAFilter.filter_paths(sg1, longest1, min_fc = MIN_FC)\n",
    "print \"Found %d paths with foldchange >= %f\" % (len(longest_filter), MIN_FC)"
   ]
  },
  {
   "cell_type": "code",
   "execution_count": 135,
   "metadata": {},
   "outputs": [
    {
     "name": "stdout",
     "output_type": "stream",
     "text": [
      "Saving 13 sequences\n",
      "no. sequences loaded: 924\n",
      "no. edges loaded: 911\n",
      "Saved 13 sequences with 2534 counts of total length 4209\n",
      "Finished heuristic 1: longest Thu Aug 23 14:25:00 2018\n"
     ]
    }
   ],
   "source": [
    "sg1.save_path_sequences(longest_filter1, outname+'_sg1_longest.fa')\n",
    "print \"Finished heuristic 1: longest\", give_time()"
   ]
  },
  {
   "cell_type": "markdown",
   "metadata": {},
   "source": [
    "## Longest unfil fc>FC"
   ]
  },
  {
   "cell_type": "code",
   "execution_count": 69,
   "metadata": {},
   "outputs": [
    {
     "name": "stdout",
     "output_type": "stream",
     "text": [
      "Start heuristic 2: longest until FC Wed Aug 22 13:28:56 2018\n",
      "Found 13 paths with foldchange >= 2.000000 Wed Aug 22 13:28:56 2018\n"
     ]
    }
   ],
   "source": [
    "# Heuristic 2: take longest until foldchange\n",
    "print \"Start heuristic 2: longest until FC\", give_time()\n",
    "longest_fc1 = heuristics.take_longest_minfc(sg1, MIN_FC)\n",
    "print \"Found %d paths with foldchange >= %f\" % (len(longest_fc1), MIN_FC), give_time()"
   ]
  },
  {
   "cell_type": "code",
   "execution_count": 120,
   "metadata": {},
   "outputs": [
    {
     "name": "stdout",
     "output_type": "stream",
     "text": [
      "Saving 13 sequences\n",
      "no. sequences loaded: 924\n",
      "no. edges loaded: 911\n",
      "Saved 13 sequences with 2534 counts of total length 4168\n",
      "Finished heuristic 2: longest until FC Thu Aug 23 13:36:51 2018\n"
     ]
    }
   ],
   "source": [
    "sg1.save_path_sequences(longest_fc1, outname+'_sg1_longestfc.fa')\n",
    "print \"Finished heuristic 2: longest until FC\", give_time()"
   ]
  },
  {
   "cell_type": "markdown",
   "metadata": {},
   "source": [
    "## Best fc"
   ]
  },
  {
   "cell_type": "code",
   "execution_count": 68,
   "metadata": {},
   "outputs": [
    {
     "name": "stdout",
     "output_type": "stream",
     "text": [
      "Start heuristic 3: take best foldchange until > FC Wed Aug 22 13:28:45 2018\n",
      "Found 13 paths with foldchange >= 2.000000 Wed Aug 22 13:28:45 2018\n"
     ]
    }
   ],
   "source": [
    "# Heuristic 3: take best foldchange until > FC\n",
    "print \"Start heuristic 3: take best foldchange until > FC\", give_time()\n",
    "best_fc1 = heuristics.take_best_fc(sg1, MIN_FC)\n",
    "print \"Found %d paths with foldchange >= %f\" % (len(best_fc1), MIN_FC), give_time()"
   ]
  },
  {
   "cell_type": "code",
   "execution_count": 136,
   "metadata": {},
   "outputs": [
    {
     "name": "stdout",
     "output_type": "stream",
     "text": [
      "Saving 13 sequences\n",
      "no. sequences loaded: 924\n",
      "no. edges loaded: 911\n",
      "Saved 13 sequences with 2534 counts of total length 4159\n",
      "Finished heuristic 3: take best foldchange until > FC Thu Aug 23 14:41:37 2018\n"
     ]
    }
   ],
   "source": [
    "sg1.save_path_sequences(best_fc1, outname+'_sg1_bestfc.fa')\n",
    "print \"Finished heuristic 3: take best foldchange until > FC\", give_time()"
   ]
  },
  {
   "cell_type": "markdown",
   "metadata": {},
   "source": [
    "## Compare edges used in assembly"
   ]
  },
  {
   "cell_type": "code",
   "execution_count": 139,
   "metadata": {
    "scrolled": true
   },
   "outputs": [
    {
     "name": "stdout",
     "output_type": "stream",
     "text": [
      "jaccard 911 911\n",
      "#edges1=911\t#edges2=911\tJaccard index=1.000000\n"
     ]
    }
   ],
   "source": [
    "# test identical sets\n",
    "compare_used_edges(longest_fc1, outname+'_sg1_longestfc.fa');"
   ]
  },
  {
   "cell_type": "code",
   "execution_count": 130,
   "metadata": {
    "scrolled": true
   },
   "outputs": [
    {
     "name": "stdout",
     "output_type": "stream",
     "text": [
      "jaccard 904 918\n",
      "#edges1=911\t#edges2=911\tJaccard index=0.984749\n",
      "Sum1 =  2534 Sum2 =  2534\n",
      "Foldchanges: [5.551181102362205, 51.8, 2.0851063829787235, 1.4285714285714285e-07, 0.3068181818181818, 10.625, 16.666666666666668, 16.0, 113000000.0, 33.5, 1e-06, 1e-07, 2.5e-07, 2.4390243902439023e-08, 4.474626865671642, 2e-08, 122000000.0, 1.4285714285714285e-07, 0.3068181818181818, 21.8, 10.625, 16.0, 113000000.0, 1e-06, 6000000.0, 2.5e-07]\n"
     ]
    }
   ],
   "source": [
    "compare_used_edges(longest_filter1, longest_fc1)\n",
    "compare_counts(sg1, longest_filter1, longest_fc1);"
   ]
  },
  {
   "cell_type": "code",
   "execution_count": 133,
   "metadata": {
    "scrolled": true
   },
   "outputs": [
    {
     "name": "stdout",
     "output_type": "stream",
     "text": [
      "jaccard 899 923\n",
      "#edges1=911\t#edges2=911\tJaccard index=0.973998\n",
      "Sum1 =  2534 Sum2 =  2534\n",
      "Foldchanges: [5.551181102362205, 51.8, 2.0851063829787235, 1.4285714285714285e-07, 0.3068181818181818, 10.625, 16.666666666666668, 16.0, 113000000.0, 33.5, 1e-06, 1e-07, 2.5e-07, 2.876543209876543, 8.3671875, 7.833333333333333, 2.4390243902439023e-08, 2e-08, 16.0, 1.1111111111111111e-07, 1e-07, 1e-07, 6000000.0, 1000000.0, 21.8, 0.29545454545454547]\n"
     ]
    }
   ],
   "source": [
    "compare_used_edges(longest_filter1, best_fc1)\n",
    "compare_counts(sg1, longest_filter1, best_fc1);"
   ]
  },
  {
   "cell_type": "code",
   "execution_count": 134,
   "metadata": {
    "scrolled": true
   },
   "outputs": [
    {
     "name": "stdout",
     "output_type": "stream",
     "text": [
      "jaccard 902 920\n",
      "#edges1=911\t#edges2=911\tJaccard index=0.980435\n",
      "Sum1 =  2534 Sum2 =  2534\n",
      "Foldchanges: [2.4390243902439023e-08, 4.474626865671642, 2e-08, 122000000.0, 1.4285714285714285e-07, 0.3068181818181818, 21.8, 10.625, 16.0, 113000000.0, 1e-06, 6000000.0, 2.5e-07, 2.876543209876543, 8.3671875, 7.833333333333333, 2.4390243902439023e-08, 2e-08, 16.0, 1.1111111111111111e-07, 1e-07, 1e-07, 6000000.0, 1000000.0, 21.8, 0.29545454545454547]\n"
     ]
    }
   ],
   "source": [
    "compare_used_edges(longest_fc1, best_fc1)\n",
    "compare_counts(sg1, longest_fc1, best_fc1);"
   ]
  },
  {
   "cell_type": "code",
   "execution_count": null,
   "metadata": {},
   "outputs": [],
   "source": []
  },
  {
   "cell_type": "markdown",
   "metadata": {},
   "source": [
    "# Analyze WHOLE GRAPH"
   ]
  },
  {
   "cell_type": "code",
   "execution_count": 140,
   "metadata": {},
   "outputs": [
    {
     "name": "stdout",
     "output_type": "stream",
     "text": [
      "Number of nodes 5993630\n",
      "Number of edges 8469080\n",
      "Number of reads 113859152\n"
     ]
    }
   ],
   "source": [
    "graph_stats.short_summary(sg)"
   ]
  },
  {
   "cell_type": "markdown",
   "metadata": {},
   "source": [
    "## Longest paths"
   ]
  },
  {
   "cell_type": "code",
   "execution_count": 141,
   "metadata": {},
   "outputs": [],
   "source": [
    "MIN_FC = 2"
   ]
  },
  {
   "cell_type": "code",
   "execution_count": 146,
   "metadata": {
    "scrolled": true
   },
   "outputs": [
    {
     "name": "stdout",
     "output_type": "stream",
     "text": [
      " Start heuristic 1: longest Thu Aug 23 15:33:10 2018\n",
      "Found 722089 paths Thu Aug 23 15:33:10 2018\n",
      "Leave 596260 sequences with 72770883 counts\n",
      "Found 596260 paths with foldchange >= 2.000000\n"
     ]
    }
   ],
   "source": [
    "outname = \"simplified\"\n",
    "# Heuristic 1: take longest\n",
    "print \"Start heuristic 1: longest\", give_time()\n",
    "#longest = heuristics.take_longest(sg)\n",
    "print \"Found %d paths\" % len(longest), give_time()\n",
    "# filter by FC\n",
    "longest_filter = SGAFilter.filter_paths(sg, longest, min_fc = MIN_FC)\n",
    "print \"Found %d paths with foldchange >= %f\" % (len(longest_filter), MIN_FC)"
   ]
  },
  {
   "cell_type": "code",
   "execution_count": 165,
   "metadata": {},
   "outputs": [
    {
     "name": "stdout",
     "output_type": "stream",
     "text": [
      "Saving 596260 sequences\n",
      "no. sequences loaded: 13908344\n",
      "no. edges loaded: 13313101\n",
      "Saved 596260 sequences with 72770883 counts of total length 128063940\n",
      "Finished heuristic 1: longest Thu Sep  6 16:24:17 2018\n"
     ]
    }
   ],
   "source": [
    "longest_filter_seqs = sg.save_path_sequences(longest_filter, outname+'_sg_longest.fa')\n",
    "print \"Finished heuristic 1: longest\", give_time()"
   ]
  },
  {
   "cell_type": "markdown",
   "metadata": {},
   "source": [
    "## Longest unfil fc>FC"
   ]
  },
  {
   "cell_type": "code",
   "execution_count": 147,
   "metadata": {},
   "outputs": [
    {
     "name": "stdout",
     "output_type": "stream",
     "text": [
      "Start heuristic 2: longest until FC Thu Aug 23 15:39:59 2018\n",
      "Found 1080089 paths with foldchange >= 2.000000 Thu Aug 23 15:42:53 2018\n"
     ]
    }
   ],
   "source": [
    "# Heuristic 2: take longest until foldchange\n",
    "print \"Start heuristic 2: longest until FC\", give_time()\n",
    "longest_fc = heuristics.take_longest_minfc(sg, MIN_FC)\n",
    "print \"Found %d paths with foldchange >= %f\" % (len(longest_fc), MIN_FC), give_time()"
   ]
  },
  {
   "cell_type": "code",
   "execution_count": 166,
   "metadata": {},
   "outputs": [
    {
     "name": "stdout",
     "output_type": "stream",
     "text": [
      "Saving 1080089 sequences\n",
      "no. sequences loaded: 16718856\n",
      "no. edges loaded: 15639817\n",
      "Saved 1080089 sequences with 82340781 counts of total length 188580298\n",
      "Finished heuristic 2: longest until FC Thu Sep  6 16:44:42 2018\n"
     ]
    }
   ],
   "source": [
    "longest_fc_seqs = sg.save_path_sequences(longest_fc, outname+'_sg_longestfc.fa')\n",
    "print \"Finished heuristic 2: longest until FC\", give_time()"
   ]
  },
  {
   "cell_type": "markdown",
   "metadata": {},
   "source": [
    "## Best fc"
   ]
  },
  {
   "cell_type": "code",
   "execution_count": 153,
   "metadata": {},
   "outputs": [
    {
     "name": "stdout",
     "output_type": "stream",
     "text": [
      " Start heuristic 3: take best foldchange until > FC Fri Aug 24 19:13:03 2018\n",
      "Found 899823 paths with foldchange >= 2.000000 Fri Aug 24 19:14:58 2018\n"
     ]
    }
   ],
   "source": [
    "# Heuristic 3: take best foldchange until > FC\n",
    "print \"Start heuristic 3: take best foldchange until > FC\", give_time()\n",
    "best_fc = heuristics.take_best_fc(sg, MIN_FC)\n",
    "print \"Found %d paths with foldchange >= %f\" % (len(best_fc), MIN_FC), give_time()"
   ]
  },
  {
   "cell_type": "code",
   "execution_count": 167,
   "metadata": {},
   "outputs": [
    {
     "name": "stdout",
     "output_type": "stream",
     "text": [
      "Saving 899823 sequences\n",
      "no. sequences loaded: 16820425\n",
      "no. edges loaded: 15921715\n",
      "Saved 899823 sequences with 83217162 counts of total length 170634689\n",
      "Finished heuristic 3: take best foldchange until > FC Thu Sep  6 17:05:44 2018\n"
     ]
    }
   ],
   "source": [
    "best_fc_seqs = sg.save_path_sequences(best_fc, outname+'_sg_bestfc.fa')\n",
    "print \"Finished heuristic 3: take best foldchange until > FC\", give_time()"
   ]
  },
  {
   "cell_type": "markdown",
   "metadata": {},
   "source": [
    "## Compare"
   ]
  },
  {
   "cell_type": "code",
   "execution_count": 180,
   "metadata": {},
   "outputs": [
    {
     "name": "stdout",
     "output_type": "stream",
     "text": [
      "Set1\\set2= 379555\n",
      "Set1 n Set2= 12933546\n",
      "Set2\\set1= 2706271\n",
      "#edges1=13313101\t#edges2=15639817\tJaccard index=0.807369\n"
     ]
    }
   ],
   "source": [
    "compare_used_edges(longest_filter, longest_fc)"
   ]
  },
  {
   "cell_type": "code",
   "execution_count": 181,
   "metadata": {
    "scrolled": true
   },
   "outputs": [
    {
     "name": "stdout",
     "output_type": "stream",
     "text": [
      "Set1\\set2= 678600\n",
      "Set1 n Set2= 12634501\n",
      "Set2\\set1= 3287214\n",
      "#edges1=13313101\t#edges2=15921715\tJaccard index=0.761100\n"
     ]
    }
   ],
   "source": [
    "compare_used_edges(longest_filter, best_fc)"
   ]
  },
  {
   "cell_type": "code",
   "execution_count": 182,
   "metadata": {
    "scrolled": true
   },
   "outputs": [
    {
     "name": "stdout",
     "output_type": "stream",
     "text": [
      "Set1\\set2= 961010\n",
      "Set1 n Set2= 14678807\n",
      "Set2\\set1= 1242908\n",
      "#edges1=15639817\t#edges2=15921715\tJaccard index=0.869457\n"
     ]
    }
   ],
   "source": [
    "compare_used_edges(longest_fc, best_fc)"
   ]
  },
  {
   "cell_type": "code",
   "execution_count": 185,
   "metadata": {},
   "outputs": [
    {
     "name": "stdout",
     "output_type": "stream",
     "text": [
      "No. paths: 596260 Length:  128063940 Counts: 72770883\n",
      "No. paths: 1080089 Length:  188580298 Counts: 82340781\n",
      "No. paths: 899823 Length:  170634689 Counts: 83217162\n"
     ]
    }
   ],
   "source": [
    "stats(sg, longest_filter, longest_filter_seqs)\n",
    "stats(sg, longest_fc, longest_fc_seqs)\n",
    "stats(sg, best_fc, best_fc_seqs)"
   ]
  },
  {
   "cell_type": "markdown",
   "metadata": {},
   "source": [
    "## Filter results by length of contig\n",
    "min_len = 200"
   ]
  },
  {
   "cell_type": "code",
   "execution_count": 168,
   "metadata": {},
   "outputs": [],
   "source": [
    "MIN_LEN = 200"
   ]
  },
  {
   "cell_type": "code",
   "execution_count": 171,
   "metadata": {},
   "outputs": [],
   "source": [
    "longest_filter_200 = filter_lengths(longest_filter, longest_filter_seqs, MIN_LEN)\n",
    "longest_fc_200 = filter_lengths(longest_fc, longest_fc_seqs, MIN_LEN)\n",
    "best_fc_200 = filter_lengths(best_fc, best_fc_seqs, MIN_LEN)\n"
   ]
  },
  {
   "cell_type": "code",
   "execution_count": 176,
   "metadata": {},
   "outputs": [
    {
     "name": "stdout",
     "output_type": "stream",
     "text": [
      "No. paths: 137071 Length:  73364149 Counts: 41397031\n",
      "No. paths: 162513 Length:  85257069 Counts: 45698868\n",
      "No. paths: 169891 Length:  86385438 Counts: 47288414\n"
     ]
    }
   ],
   "source": [
    "stats(sg, longest_filter_200[0], longest_filter_200[1])\n",
    "stats(sg, longest_fc_200[0], longest_fc_200[1])\n",
    "stats(sg, best_fc_200[0], best_fc_200[1])"
   ]
  },
  {
   "cell_type": "markdown",
   "metadata": {},
   "source": [
    "#### This version included edges from previously joined nodes."
   ]
  },
  {
   "cell_type": "code",
   "execution_count": 179,
   "metadata": {},
   "outputs": [
    {
     "name": "stdout",
     "output_type": "stream",
     "text": [
      "Set1\\set2= 503913\n",
      "Set1 n Set2= 10672138\n",
      "Set2\\set1= 2118083\n",
      "#edges1=11176051\t#edges2=12790221\tJaccard index=0.802770\n",
      "Set1\\set2= 1338285\n",
      "Set1 n Set2= 9837766\n",
      "Set2\\set1= 3278648\n",
      "#edges1=11176051\t#edges2=13116414\tJaccard index=0.680593\n",
      "Set1\\set2= 1749288\n",
      "Set1 n Set2= 11040933\n",
      "Set2\\set1= 2075481\n",
      "#edges1=12790221\t#edges2=13116414\tJaccard index=0.742712\n"
     ]
    }
   ],
   "source": [
    "compare_used_edges(longest_filter_200[0], longest_fc_200[0])\n",
    "compare_used_edges(longest_filter_200[0], best_fc_200[0])\n",
    "compare_used_edges(longest_fc_200[0], best_fc_200[0])"
   ]
  },
  {
   "cell_type": "markdown",
   "metadata": {},
   "source": [
    "#### This version uses only edges created in paths creation."
   ]
  },
  {
   "cell_type": "code",
   "execution_count": 241,
   "metadata": {},
   "outputs": [
    {
     "name": "stdout",
     "output_type": "stream",
     "text": [
      "Set1\\set2= 314953\n",
      "Set1 n Set2= 1835279\n",
      "Set2\\set1= 727019\n",
      "#edges1=2150232\t#edges2=2562298\tJaccard index=0.637858\n",
      "Set1\\set2= 806496\n",
      "Set1 n Set2= 1343736\n",
      "Set2\\set1= 1651953\n",
      "#edges1=2150232\t#edges2=2995689\tJaccard index=0.353412\n",
      "Set1\\set2= 1050747\n",
      "Set1 n Set2= 1511551\n",
      "Set2\\set1= 1484138\n",
      "#edges1=2562298\t#edges2=2995689\tJaccard index=0.373551\n"
     ]
    }
   ],
   "source": [
    "compare_used_edges_new(longest_filter_200[0], longest_fc_200[0])\n",
    "compare_used_edges_new(longest_filter_200[0], best_fc_200[0])\n",
    "compare_used_edges_new(longest_fc_200[0], best_fc_200[0])"
   ]
  },
  {
   "cell_type": "markdown",
   "metadata": {},
   "source": [
    "## Identical contigs"
   ]
  },
  {
   "cell_type": "code",
   "execution_count": 188,
   "metadata": {},
   "outputs": [
    {
     "name": "stdout",
     "output_type": "stream",
     "text": [
      "Identical: 96472 S1 percent: 0.703810434009 S2 percent: 0.593626356045\n",
      "Identical: 51525 S1 percent: 0.37590008098 S2 percent: 0.303282693021\n",
      "Identical: 52588 S1 percent: 0.323592574133 S2 percent: 0.309539646008\n"
     ]
    }
   ],
   "source": [
    "compare_identical(longest_filter_200[0], longest_fc_200[0])\n",
    "compare_identical(longest_filter_200[0], best_fc_200[0])\n",
    "compare_identical(longest_fc_200[0], best_fc_200[0])"
   ]
  },
  {
   "cell_type": "code",
   "execution_count": 233,
   "metadata": {},
   "outputs": [
    {
     "data": {
      "image/png": "[encoded data removed]",
      "text/plain": [
       "<matplotlib.figure.Figure at 0x7f69d409c9d0>"
      ]
     },
     "metadata": {},
     "output_type": "display_data"
    }
   ],
   "source": [
    "from matplotlib_venn import venn3, venn3_circles\n",
    "\n",
    "identical_venn([longest_filter_200[1], longest_fc_200[1], best_fc_200[1]], [\"longest\", \"longest_fc\", \"best_fc\"])"
   ]
  },
  {
   "cell_type": "markdown",
   "metadata": {},
   "source": [
    "## Pairs of connections  in paths? "
   ]
  },
  {
   "cell_type": "code",
   "execution_count": 245,
   "metadata": {},
   "outputs": [
    {
     "name": "stdout",
     "output_type": "stream",
     "text": [
      "Set1\\set2= 330104\n",
      "Set1 n Set2= 1727873\n",
      "Set2\\set1= 716962\n",
      "#pairs1=2057977\t#pairs2=2444835\tJaccard index=0.622671\n",
      "Set1\\set2= 845472\n",
      "Set1 n Set2= 1212505\n",
      "Set2\\set1= 1659445\n",
      "#pairs1=2057977\t#pairs2=2871950\tJaccard index=0.326168\n",
      "Set1\\set2= 1098771\n",
      "Set1 n Set2= 1346064\n",
      "Set2\\set1= 1525886\n",
      "#pairs1=2444835\t#pairs2=2871950\tJaccard index=0.338997\n"
     ]
    }
   ],
   "source": [
    "compare_pairs_of_edges(longest_filter_200[0], longest_fc_200[0])\n",
    "compare_pairs_of_edges(longest_filter_200[0], best_fc_200[0])\n",
    "compare_pairs_of_edges(longest_fc_200[0], best_fc_200[0])"
   ]
  },
  {
   "cell_type": "markdown",
   "metadata": {},
   "source": [
    "# Compare with SGA"
   ]
  },
  {
   "cell_type": "raw",
   "metadata": {},
   "source": [
    "# test\n",
    "#test_graph = SGAFilter.SgaGraph({0: 0})\n",
    "#test_graph.init_graph(\"/mnt/chr7/data/julia/sga_test/merged.preprocessed.ec.filter.pass_51-graph.asqg\")\n",
    "#test_graph.load_graph()\n",
    "test_graph.write_to_asqg(\"test.asqg\")"
   ]
  },
  {
   "cell_type": "raw",
   "metadata": {},
   "source": [
    "%%bash\n",
    "sort /mnt/chr7/data/julia/sga_test/merged.preprocessed.ec.filter.pass_51-graph.asqg | tr -s ' ' > sorted_original.asqg\n",
    "sort test.asqg | tr -s ' ' > sorted_test.asqg \n",
    "diff sorted_test.asqg sorted_original.asqg | head"
   ]
  },
  {
   "cell_type": "code",
   "execution_count": 252,
   "metadata": {},
   "outputs": [
    {
     "name": "stdout",
     "output_type": "stream",
     "text": [
      "no. sequences loaded: 19309132\n",
      "no. edges loaded: 13315502\n"
     ]
    }
   ],
   "source": [
    "sg.write_to_asqg(\"my_simplified_merged\"+suf+\"_31_v6.asqg\")"
   ]
  },
  {
   "cell_type": "code",
   "execution_count": 253,
   "metadata": {},
   "outputs": [
    {
     "name": "stdout",
     "output_type": "stream",
     "text": [
      "Deleted edges for 0 super repetitive vertices\n"
     ]
    },
    {
     "name": "stderr",
     "output_type": "stream",
     "text": [
      "Warning vertex K00114:251:H52JYBBXX:8:1209:26159:27830:6695_04-06-2015/2 is color \u0004 expected \u0000\n",
      "sga: SGVisitors.cpp:345: void SGDuplicateVisitor::previsit(StringGraph*): Assertion `pGraph->checkColors(GC_WHITE)' failed.\n",
      "bash: line 1: 14871 Aborted                 (core dumped) sga assemble -o my_simplified_merged$1_31_assemble my_simplified_merged$1_31_v6.asqg\n"
     ]
    }
   ],
   "source": [
    "%%bash -s \"$suf\"\n",
    "sga assemble -o my_simplified_merged$1_31_assemble my_simplified_merged$1_31_v6.asqg\n",
    "#gunzip -c my_simplified_merged$1_31_assemble-graph.asqg.gz > my_simplified_merged$1_31_assemble-graph.asqg"
   ]
  },
  {
   "cell_type": "code",
   "execution_count": null,
   "metadata": {},
   "outputs": [],
   "source": []
  },
  {
   "cell_type": "code",
   "execution_count": null,
   "metadata": {},
   "outputs": [],
   "source": []
  }
 ],
 "metadata": {
  "kernelspec": {
   "display_name": "Python 2",
   "language": "python",
   "name": "python2"
  },
  "language_info": {
   "codemirror_mode": {
    "name": "ipython",
    "version": 2
   },
   "file_extension": ".py",
   "mimetype": "text/x-python",
   "name": "python",
   "nbconvert_exporter": "python",
   "pygments_lexer": "ipython2",
   "version": "2.7.6"
  }
 },
 "nbformat": 4,
 "nbformat_minor": 2
}
